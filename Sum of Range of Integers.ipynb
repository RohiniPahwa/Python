{
 "cells": [
  {
   "cell_type": "code",
   "execution_count": 83,
   "id": "21ddbbd0",
   "metadata": {},
   "outputs": [],
   "source": [
    "import numpy\n",
    "import pandas\n",
    "import seaborn\n",
    "import matplotlib\n",
    "import random"
   ]
  },
  {
   "cell_type": "code",
   "execution_count": 86,
   "id": "c462dd95",
   "metadata": {},
   "outputs": [
    {
     "name": "stdout",
     "output_type": "stream",
     "text": [
      "1\n",
      "4\n",
      "7\n",
      "10\n",
      "13\n",
      "16\n",
      "19\n",
      "22\n",
      "25\n",
      "28\n",
      "31\n",
      "34\n",
      "37\n",
      "40\n",
      "43\n",
      "330\n"
     ]
    }
   ],
   "source": [
    "\n",
    "def addition():\n",
    "    sum = 0\n",
    "    for num in range(1,45,3):\n",
    "        print(num)\n",
    "        sum += num\n",
    "        \n",
    "    return sum\n",
    "print(addition())\n"
   ]
  },
  {
   "cell_type": "code",
   "execution_count": 92,
   "id": "84f1a14d",
   "metadata": {},
   "outputs": [
    {
     "name": "stdout",
     "output_type": "stream",
     "text": [
      "4950\n",
      "4950\n"
     ]
    }
   ],
   "source": [
    "def addition_range():\n",
    "   \n",
    "    s = sum(range(1,100,1))\n",
    "\n",
    "    return s\n",
    "       \n",
    "print(addition_range())"
   ]
  },
  {
   "cell_type": "code",
   "execution_count": null,
   "id": "6bfa7f09",
   "metadata": {},
   "outputs": [],
   "source": []
  }
 ],
 "metadata": {
  "kernelspec": {
   "display_name": "Python 3 (ipykernel)",
   "language": "python",
   "name": "python3"
  },
  "language_info": {
   "codemirror_mode": {
    "name": "ipython",
    "version": 3
   },
   "file_extension": ".py",
   "mimetype": "text/x-python",
   "name": "python",
   "nbconvert_exporter": "python",
   "pygments_lexer": "ipython3",
   "version": "3.9.7"
  }
 },
 "nbformat": 4,
 "nbformat_minor": 5
}
